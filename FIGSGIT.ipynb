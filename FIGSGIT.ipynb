{
 "cells": [
  {
   "cell_type": "code",
   "execution_count": 63,
   "id": "ec2bcd1e",
   "metadata": {},
   "outputs": [],
   "source": [
    "import pandas as pd"
   ]
  },
  {
   "cell_type": "code",
   "execution_count": 200,
   "id": "e7362398",
   "metadata": {},
   "outputs": [],
   "source": [
    "use_case = '19i'\n",
    "#indoor = 19i\n",
    "#low_mobility = 18w2, same ticks as indoor\n",
    "#moderate Mobility - 23m and has 3 minutes of ticks\n",
    "#extreme = mc5, has 5 ticks\n",
    "indoor_ticks = 6\n",
    "# moderate_ticks = 3\n",
    "# extreme_ticks = 5"
   ]
  },
  {
   "cell_type": "code",
   "execution_count": 201,
   "id": "29121c33-8a1a-4a2e-ae78-2282943d6a4e",
   "metadata": {},
   "outputs": [],
   "source": [
    "ticks = indoor_ticks"
   ]
  },
  {
   "cell_type": "code",
   "execution_count": 202,
   "id": "5cc77d28",
   "metadata": {},
   "outputs": [],
   "source": [
    "df = pd.read_csv(\"logfiles/all/\"+use_case+\".txt\", sep='\\t')"
   ]
  },
  {
   "cell_type": "code",
   "execution_count": 203,
   "id": "28b0a67b",
   "metadata": {},
   "outputs": [],
   "source": [
    "# df = df.iloc[36:-14]"
   ]
  },
  {
   "cell_type": "code",
   "execution_count": 204,
   "id": "2edc1e5a",
   "metadata": {},
   "outputs": [],
   "source": [
    "# df.columns"
   ]
  },
  {
   "cell_type": "code",
   "execution_count": 205,
   "id": "663517bc",
   "metadata": {},
   "outputs": [],
   "source": [
    "df = df[['Timestamp','NetworkTech','NetworkMode','Level','Qual','SNR','CQI','LTERSSI','ARFCN','DL_bitrate','UL_bitrate','State','EVENT']]"
   ]
  },
  {
   "cell_type": "code",
   "execution_count": 206,
   "id": "39b6a61b",
   "metadata": {},
   "outputs": [
    {
     "data": {
      "text/html": [
       "<div>\n",
       "<style scoped>\n",
       "    .dataframe tbody tr th:only-of-type {\n",
       "        vertical-align: middle;\n",
       "    }\n",
       "\n",
       "    .dataframe tbody tr th {\n",
       "        vertical-align: top;\n",
       "    }\n",
       "\n",
       "    .dataframe thead th {\n",
       "        text-align: right;\n",
       "    }\n",
       "</style>\n",
       "<table border=\"1\" class=\"dataframe\">\n",
       "  <thead>\n",
       "    <tr style=\"text-align: right;\">\n",
       "      <th></th>\n",
       "      <th>Timestamp</th>\n",
       "      <th>NetworkTech</th>\n",
       "      <th>NetworkMode</th>\n",
       "      <th>Level</th>\n",
       "      <th>Qual</th>\n",
       "      <th>SNR</th>\n",
       "      <th>CQI</th>\n",
       "      <th>LTERSSI</th>\n",
       "      <th>ARFCN</th>\n",
       "      <th>DL_bitrate</th>\n",
       "      <th>UL_bitrate</th>\n",
       "      <th>State</th>\n",
       "      <th>EVENT</th>\n",
       "    </tr>\n",
       "  </thead>\n",
       "  <tbody>\n",
       "    <tr>\n",
       "      <th>35</th>\n",
       "      <td>2024.02.19_10.11.50</td>\n",
       "      <td>5G</td>\n",
       "      <td>5G</td>\n",
       "      <td>-108</td>\n",
       "      <td>-12</td>\n",
       "      <td>4.0</td>\n",
       "      <td>-</td>\n",
       "      <td>-</td>\n",
       "      <td>520110</td>\n",
       "      <td>8</td>\n",
       "      <td>15</td>\n",
       "      <td>D</td>\n",
       "      <td>PERIODIC</td>\n",
       "    </tr>\n",
       "    <tr>\n",
       "      <th>36</th>\n",
       "      <td>2024.02.19_10.11.51</td>\n",
       "      <td>5G</td>\n",
       "      <td>5G</td>\n",
       "      <td>-108</td>\n",
       "      <td>-12</td>\n",
       "      <td>3.0</td>\n",
       "      <td>-</td>\n",
       "      <td>-</td>\n",
       "      <td>520110</td>\n",
       "      <td>7</td>\n",
       "      <td>25</td>\n",
       "      <td>D</td>\n",
       "      <td>PERIODIC</td>\n",
       "    </tr>\n",
       "    <tr>\n",
       "      <th>37</th>\n",
       "      <td>2024.02.19_10.11.52</td>\n",
       "      <td>5G</td>\n",
       "      <td>5G</td>\n",
       "      <td>-108</td>\n",
       "      <td>-12</td>\n",
       "      <td>3.0</td>\n",
       "      <td>-</td>\n",
       "      <td>-</td>\n",
       "      <td>520110</td>\n",
       "      <td>3289</td>\n",
       "      <td>71</td>\n",
       "      <td>D</td>\n",
       "      <td>PERIODIC</td>\n",
       "    </tr>\n",
       "    <tr>\n",
       "      <th>38</th>\n",
       "      <td>2024.02.19_10.11.53</td>\n",
       "      <td>5G</td>\n",
       "      <td>5G</td>\n",
       "      <td>-108</td>\n",
       "      <td>-12</td>\n",
       "      <td>4.0</td>\n",
       "      <td>-</td>\n",
       "      <td>-</td>\n",
       "      <td>520110</td>\n",
       "      <td>589</td>\n",
       "      <td>29</td>\n",
       "      <td>D</td>\n",
       "      <td>PERIODIC</td>\n",
       "    </tr>\n",
       "    <tr>\n",
       "      <th>39</th>\n",
       "      <td>2024.02.19_10.11.54</td>\n",
       "      <td>5G</td>\n",
       "      <td>5G</td>\n",
       "      <td>-108</td>\n",
       "      <td>-12</td>\n",
       "      <td>4.0</td>\n",
       "      <td>-</td>\n",
       "      <td>-</td>\n",
       "      <td>520110</td>\n",
       "      <td>45799</td>\n",
       "      <td>181</td>\n",
       "      <td>D</td>\n",
       "      <td>PERIODIC</td>\n",
       "    </tr>\n",
       "  </tbody>\n",
       "</table>\n",
       "</div>"
      ],
      "text/plain": [
       "              Timestamp NetworkTech NetworkMode  Level  Qual  SNR CQI LTERSSI  \\\n",
       "35  2024.02.19_10.11.50          5G          5G   -108   -12  4.0   -       -   \n",
       "36  2024.02.19_10.11.51          5G          5G   -108   -12  3.0   -       -   \n",
       "37  2024.02.19_10.11.52          5G          5G   -108   -12  3.0   -       -   \n",
       "38  2024.02.19_10.11.53          5G          5G   -108   -12  4.0   -       -   \n",
       "39  2024.02.19_10.11.54          5G          5G   -108   -12  4.0   -       -   \n",
       "\n",
       "     ARFCN  DL_bitrate  UL_bitrate State     EVENT  \n",
       "35  520110           8          15     D  PERIODIC  \n",
       "36  520110           7          25     D  PERIODIC  \n",
       "37  520110        3289          71     D  PERIODIC  \n",
       "38  520110         589          29     D  PERIODIC  \n",
       "39  520110       45799         181     D  PERIODIC  "
      ]
     },
     "execution_count": 206,
     "metadata": {},
     "output_type": "execute_result"
    }
   ],
   "source": [
    "df[35:40]"
   ]
  },
  {
   "cell_type": "code",
   "execution_count": 207,
   "id": "635328de-7897-40a9-a033-aa1f86656a4b",
   "metadata": {},
   "outputs": [
    {
     "data": {
      "text/html": [
       "<div>\n",
       "<style scoped>\n",
       "    .dataframe tbody tr th:only-of-type {\n",
       "        vertical-align: middle;\n",
       "    }\n",
       "\n",
       "    .dataframe tbody tr th {\n",
       "        vertical-align: top;\n",
       "    }\n",
       "\n",
       "    .dataframe thead th {\n",
       "        text-align: right;\n",
       "    }\n",
       "</style>\n",
       "<table border=\"1\" class=\"dataframe\">\n",
       "  <thead>\n",
       "    <tr style=\"text-align: right;\">\n",
       "      <th></th>\n",
       "      <th>Timestamp</th>\n",
       "      <th>NetworkTech</th>\n",
       "      <th>NetworkMode</th>\n",
       "      <th>Level</th>\n",
       "      <th>Qual</th>\n",
       "      <th>SNR</th>\n",
       "      <th>CQI</th>\n",
       "      <th>LTERSSI</th>\n",
       "      <th>ARFCN</th>\n",
       "      <th>DL_bitrate</th>\n",
       "      <th>UL_bitrate</th>\n",
       "      <th>State</th>\n",
       "      <th>EVENT</th>\n",
       "    </tr>\n",
       "  </thead>\n",
       "  <tbody>\n",
       "    <tr>\n",
       "      <th>0</th>\n",
       "      <td>2024.02.19_10.11.19</td>\n",
       "      <td>5G</td>\n",
       "      <td>5G</td>\n",
       "      <td>-108</td>\n",
       "      <td>-13</td>\n",
       "      <td>3.0</td>\n",
       "      <td>-</td>\n",
       "      <td>-</td>\n",
       "      <td>520110</td>\n",
       "      <td>2</td>\n",
       "      <td>1</td>\n",
       "      <td>D</td>\n",
       "      <td>LOG START</td>\n",
       "    </tr>\n",
       "  </tbody>\n",
       "</table>\n",
       "</div>"
      ],
      "text/plain": [
       "             Timestamp NetworkTech NetworkMode  Level  Qual  SNR CQI LTERSSI  \\\n",
       "0  2024.02.19_10.11.19          5G          5G   -108   -13  3.0   -       -   \n",
       "\n",
       "    ARFCN  DL_bitrate  UL_bitrate State      EVENT  \n",
       "0  520110           2           1     D  LOG START  "
      ]
     },
     "execution_count": 207,
     "metadata": {},
     "output_type": "execute_result"
    }
   ],
   "source": [
    "df[:1]"
   ]
  },
  {
   "cell_type": "code",
   "execution_count": 208,
   "id": "f187a030-859f-43d8-aaed-3ead4e3c0652",
   "metadata": {},
   "outputs": [
    {
     "data": {
      "text/html": [
       "<div>\n",
       "<style scoped>\n",
       "    .dataframe tbody tr th:only-of-type {\n",
       "        vertical-align: middle;\n",
       "    }\n",
       "\n",
       "    .dataframe tbody tr th {\n",
       "        vertical-align: top;\n",
       "    }\n",
       "\n",
       "    .dataframe thead th {\n",
       "        text-align: right;\n",
       "    }\n",
       "</style>\n",
       "<table border=\"1\" class=\"dataframe\">\n",
       "  <thead>\n",
       "    <tr style=\"text-align: right;\">\n",
       "      <th></th>\n",
       "      <th>Timestamp</th>\n",
       "      <th>NetworkTech</th>\n",
       "      <th>NetworkMode</th>\n",
       "      <th>Level</th>\n",
       "      <th>Qual</th>\n",
       "      <th>SNR</th>\n",
       "      <th>CQI</th>\n",
       "      <th>LTERSSI</th>\n",
       "      <th>ARFCN</th>\n",
       "      <th>DL_bitrate</th>\n",
       "      <th>UL_bitrate</th>\n",
       "      <th>State</th>\n",
       "      <th>EVENT</th>\n",
       "    </tr>\n",
       "  </thead>\n",
       "  <tbody>\n",
       "    <tr>\n",
       "      <th>381</th>\n",
       "      <td>2024.02.19_10.17.18</td>\n",
       "      <td>5G</td>\n",
       "      <td>5G</td>\n",
       "      <td>-104</td>\n",
       "      <td>-12</td>\n",
       "      <td>8.0</td>\n",
       "      <td>-</td>\n",
       "      <td>-</td>\n",
       "      <td>520110</td>\n",
       "      <td>0</td>\n",
       "      <td>0</td>\n",
       "      <td>I</td>\n",
       "      <td>LOG_END</td>\n",
       "    </tr>\n",
       "  </tbody>\n",
       "</table>\n",
       "</div>"
      ],
      "text/plain": [
       "               Timestamp NetworkTech NetworkMode  Level  Qual  SNR CQI  \\\n",
       "381  2024.02.19_10.17.18          5G          5G   -104   -12  8.0   -   \n",
       "\n",
       "    LTERSSI   ARFCN  DL_bitrate  UL_bitrate State    EVENT  \n",
       "381       -  520110           0           0     I  LOG_END  "
      ]
     },
     "execution_count": 208,
     "metadata": {},
     "output_type": "execute_result"
    }
   ],
   "source": [
    "df[-1:]"
   ]
  },
  {
   "cell_type": "code",
   "execution_count": 194,
   "id": "e2176ceb",
   "metadata": {},
   "outputs": [],
   "source": [
    "# df[['date', 'time']] = df['Timestamp'].str.split('_', expand=True)"
   ]
  },
  {
   "cell_type": "code",
   "execution_count": 195,
   "id": "570927df",
   "metadata": {},
   "outputs": [],
   "source": [
    "# df['newtime'] = df['time'].str.replace('.', ':', regex=False)"
   ]
  },
  {
   "cell_type": "code",
   "execution_count": 196,
   "id": "32f58341",
   "metadata": {},
   "outputs": [],
   "source": [
    "# df['split_timestamp'] = df['newtime'].str.split(':').str[1:]  # Skip the first index\n",
    "# df['split_timestamp'] = df['newtime'].str.split(':').apply(lambda x: ':'.join(x[1:]))"
   ]
  },
  {
   "cell_type": "code",
   "execution_count": 197,
   "id": "33248231",
   "metadata": {},
   "outputs": [],
   "source": [
    "import numpy as np\n",
    "import pandas as pd\n",
    "import matplotlib.pyplot as plt\n",
    "import seaborn as sns\n",
    "# sns.set_theme(style=\"darkgrid\")"
   ]
  },
  {
   "cell_type": "code",
   "execution_count": 198,
   "id": "61d29216",
   "metadata": {},
   "outputs": [
    {
     "data": {
      "text/plain": [
       "(333, 13)"
      ]
     },
     "execution_count": 198,
     "metadata": {},
     "output_type": "execute_result"
    }
   ],
   "source": [
    "df.shape"
   ]
  },
  {
   "cell_type": "code",
   "execution_count": 199,
   "id": "f18f88da",
   "metadata": {},
   "outputs": [
    {
     "data": {
      "image/png": "[encoded data removed]",
      "text/plain": [
       "<Figure size 1200x300 with 3 Axes>"
      ]
     },
     "metadata": {},
     "output_type": "display_data"
    }
   ],
   "source": [
    "# Example data for a 6-minute time span (600 points representing 6 minutes)\n",
    "x = np.linspace(0, ticks, df.shape[0])  # 600 data points, from 0 to 6 minutes\n",
    "fig, axs = plt.subplots(1, 3, figsize=(12, 3))  # Adjust figsize as needed\n",
    "axs[0].plot(x,df['Level'], 'purple')\n",
    "axs[0].set_title(\"RSRP\")\n",
    "axs[1].plot(x,df['Qual'], 'g')\n",
    "axs[1].set_title(\"RSRQ\")\n",
    "axs[2].plot(x,df['SNR'], 'orange')\n",
    "axs[2].set_title(\"SNR\")\n",
    "minute_ticks = np.arange(1, ticks+1)  # Full minute ticks [1, 2, 3, 4, 5, 6]\n",
    "quarter_ticks = np.arange(0, ticks + 0.25, 0.25)  # Ticks every 15 seconds (including minutes)\n",
    "for i, ax in enumerate(axs):\n",
    "    # Set major ticks at full minutes and minor ticks at every 15 seconds\n",
    "    ax.set_xticks(minute_ticks, minor=False)  # Major ticks (full minutes)\n",
    "    ax.set_xticks(quarter_ticks, minor=True)  # Minor ticks (quarter minutes)\n",
    "\n",
    "    # Customize the appearance of major and minor ticks\n",
    "    ax.tick_params(axis='x', which='major', length=10, width=2)  # Longer, thicker ticks for full minutes\n",
    "    ax.tick_params(axis='x', which='minor', length=5, width=1)   # Shorter, thinner ticks for quarter minutes\n",
    "\n",
    "    # Set labels only at full minutes and leave the quarters blank\n",
    "    ax.set_xticklabels([f'{int(i)} m' for i in minute_ticks], minor=False)\n",
    "#     ax.set_title(f\"Plot {i + 1}\")\n",
    "\n",
    "plt.tight_layout()\n",
    "plt.savefig('noms/cross/'+use_case+'_all.pdf')\n",
    "plt.show()"
   ]
  },
  {
   "cell_type": "code",
   "execution_count": null,
   "id": "b7009fe3",
   "metadata": {},
   "outputs": [],
   "source": []
  },
  {
   "cell_type": "code",
   "execution_count": null,
   "id": "b2121a56",
   "metadata": {},
   "outputs": [],
   "source": [
    "# "
   ]
  }
 ],
 "metadata": {
  "kernelspec": {
   "display_name": "Python 3 (ipykernel)",
   "language": "python",
   "name": "python3"
  },
  "language_info": {
   "codemirror_mode": {
    "name": "ipython",
    "version": 3
   },
   "file_extension": ".py",
   "mimetype": "text/x-python",
   "name": "python",
   "nbconvert_exporter": "python",
   "pygments_lexer": "ipython3",
   "version": "3.12.7"
  }
 },
 "nbformat": 4,
 "nbformat_minor": 5
}
