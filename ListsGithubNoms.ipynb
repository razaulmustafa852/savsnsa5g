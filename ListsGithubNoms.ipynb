{
 "cells": [
  {
   "cell_type": "code",
   "execution_count": 180,
   "id": "7b7eb409-07b5-424b-94ee-5de1242b5e3b",
   "metadata": {},
   "outputs": [
    {
     "name": "stdout",
     "output_type": "stream",
     "text": [
      "['15mn', '1m2', '1mm', '22mn', '22MU', '24m', '24m3', '29m', '29m2', '29m9', '29mt', 'all', 'events', 'qoe']\n"
     ]
    }
   ],
   "source": [
    "import os\n",
    "\n",
    "def get_csv_filenames(folder_path):\n",
    "    # List all files in the folder\n",
    "    files = os.listdir(folder_path)\n",
    "    \n",
    "    # Filter out only CSV files\n",
    "    csv_files = [file for file in files if file.endswith('.csv')]\n",
    "    \n",
    "    return csv_files\n",
    "\n",
    "# Example usage\n",
    "folder_path = 'logfiles/mobility/sa/'  # replace with your folder path\n",
    "csv_files_list = get_csv_filenames(folder_path)\n",
    "file_names = [file.replace('.csv', '') for file in csv_files_list]\n",
    "print(file_names)"
   ]
  },
  {
   "cell_type": "code",
   "execution_count": 181,
   "id": "e7dd0463-091c-415e-9929-1394ccaafa1b",
   "metadata": {},
   "outputs": [],
   "source": [
    "extreme_lists = ['mc10', 'mc12', 'mc3', 'mc4', 'mc5', 'mc6', 'mc7', 'mc8', 'mc9', 'mcar', 'mcar2']\n",
    "\n",
    "indoor_NSA_OP1 = ['12iy', '13ip', '13it', '16i8', '16i9', '18in2', '18in3', '18ipi', '19i', '20i',\n",
    "                  '21iy', '22i', '25i', '29i', '2ip', '2iu', '4i', '4io', '5i']\n",
    "indoor_SA_OP1 = ['11ip', '18in', '24i', '24i2', '24i5', '27i']\n",
    "\n",
    "indoor_NSA_OP2 = ['i09', 'i87', 'i90', 'in2']\n",
    "\n",
    "low_mobility_NSA_OP1 = ['18w', '18w2', '18w4', '29w3']\n",
    "low_mobility_SA_OP1 = ['10wy', '1ww', '24w2', '29w']\n",
    "\n",
    "\n",
    "mobility_NSA_OP1 = ['15mnu', '23m', '23m2']\n",
    "mobility_SA_OP1 = ['15mn', '1m2', '1mm', '22mn', '22MU', '24m', '24m3', '29m', '29m2', '29m9', '29mt']"
   ]
  },
  {
   "cell_type": "code",
   "execution_count": null,
   "id": "da33469a-1b3d-4f08-98bd-551cb14f9f05",
   "metadata": {},
   "outputs": [],
   "source": []
  },
  {
   "cell_type": "code",
   "execution_count": 142,
   "id": "ff8c732f-02ec-4c45-a111-71f58eaac4e3",
   "metadata": {},
   "outputs": [],
   "source": [
    "# Merged Them"
   ]
  },
  {
   "cell_type": "code",
   "execution_count": 182,
   "id": "e14b52dd-1469-4220-885f-2ff9b8945aa0",
   "metadata": {},
   "outputs": [],
   "source": [
    "csv_files = mobility_SA_OP1"
   ]
  },
  {
   "cell_type": "code",
   "execution_count": 184,
   "id": "1350402f-2156-480b-a550-1477603aab2c",
   "metadata": {},
   "outputs": [],
   "source": [
    "import pandas as pd\n",
    "import os\n",
    "\n",
    "# List of CSV file paths\n",
    "# Empty list to hold individual DataFrames\n",
    "dfs = []\n",
    "\n",
    "# Loop through each file in the list\n",
    "for file in csv_files:\n",
    "    # Read the CSV file into a DataFrame\n",
    "    df = pd.read_csv(\"logfiles/all/\"+str(file)+\".txt\",sep='\\t', on_bad_lines='skip')\n",
    "    \n",
    "    # Add a new column with the file name (without extension)\n",
    "    df['source_file'] = file\n",
    "    \n",
    "    # Append the DataFrame to the list\n",
    "    dfs.append(df)\n",
    "\n",
    "# Concatenate all DataFrames into one\n",
    "merged_df = pd.concat(dfs, ignore_index=True)"
   ]
  },
  {
   "cell_type": "code",
   "execution_count": 185,
   "id": "9b1fbd40-9f21-4ff7-b0f0-318ee67a7415",
   "metadata": {},
   "outputs": [],
   "source": [
    "columns = merged_df[['Timestamp','NetworkTech','NetworkMode','Level','Qual','SNR','DL_bitrate','UL_bitrate','State','EVENT','source_file']]"
   ]
  },
  {
   "cell_type": "code",
   "execution_count": 186,
   "id": "8ef646f6-b775-4a73-b6da-de86358a953e",
   "metadata": {},
   "outputs": [
    {
     "data": {
      "text/html": [
       "<div>\n",
       "<style scoped>\n",
       "    .dataframe tbody tr th:only-of-type {\n",
       "        vertical-align: middle;\n",
       "    }\n",
       "\n",
       "    .dataframe tbody tr th {\n",
       "        vertical-align: top;\n",
       "    }\n",
       "\n",
       "    .dataframe thead th {\n",
       "        text-align: right;\n",
       "    }\n",
       "</style>\n",
       "<table border=\"1\" class=\"dataframe\">\n",
       "  <thead>\n",
       "    <tr style=\"text-align: right;\">\n",
       "      <th></th>\n",
       "      <th>Timestamp</th>\n",
       "      <th>NetworkTech</th>\n",
       "      <th>NetworkMode</th>\n",
       "      <th>Level</th>\n",
       "      <th>Qual</th>\n",
       "      <th>SNR</th>\n",
       "      <th>DL_bitrate</th>\n",
       "      <th>UL_bitrate</th>\n",
       "      <th>State</th>\n",
       "      <th>EVENT</th>\n",
       "      <th>source_file</th>\n",
       "    </tr>\n",
       "  </thead>\n",
       "  <tbody>\n",
       "    <tr>\n",
       "      <th>0</th>\n",
       "      <td>2024.03.15_14.23.35</td>\n",
       "      <td>4G</td>\n",
       "      <td>LTE</td>\n",
       "      <td>-108</td>\n",
       "      <td>-11</td>\n",
       "      <td>0.0</td>\n",
       "      <td>0</td>\n",
       "      <td>0</td>\n",
       "      <td>I</td>\n",
       "      <td>LOG START</td>\n",
       "      <td>15mn</td>\n",
       "    </tr>\n",
       "    <tr>\n",
       "      <th>1</th>\n",
       "      <td>2024.03.15_14.23.35</td>\n",
       "      <td>4G</td>\n",
       "      <td>LTE</td>\n",
       "      <td>-108</td>\n",
       "      <td>-11</td>\n",
       "      <td>0.0</td>\n",
       "      <td>0</td>\n",
       "      <td>0</td>\n",
       "      <td>I</td>\n",
       "      <td>NaN</td>\n",
       "      <td>15mn</td>\n",
       "    </tr>\n",
       "    <tr>\n",
       "      <th>2</th>\n",
       "      <td>2024.03.15_14.23.35</td>\n",
       "      <td>4G</td>\n",
       "      <td>LTE</td>\n",
       "      <td>-108</td>\n",
       "      <td>-11</td>\n",
       "      <td>0.0</td>\n",
       "      <td>0</td>\n",
       "      <td>0</td>\n",
       "      <td>I</td>\n",
       "      <td>PERIODIC</td>\n",
       "      <td>15mn</td>\n",
       "    </tr>\n",
       "    <tr>\n",
       "      <th>3</th>\n",
       "      <td>2024.03.15_14.23.35</td>\n",
       "      <td>4G</td>\n",
       "      <td>LTE</td>\n",
       "      <td>-108</td>\n",
       "      <td>-11</td>\n",
       "      <td>0.0</td>\n",
       "      <td>0</td>\n",
       "      <td>0</td>\n",
       "      <td>I</td>\n",
       "      <td>NaN</td>\n",
       "      <td>15mn</td>\n",
       "    </tr>\n",
       "    <tr>\n",
       "      <th>4</th>\n",
       "      <td>2024.03.15_14.23.36</td>\n",
       "      <td>4G</td>\n",
       "      <td>LTE</td>\n",
       "      <td>-110</td>\n",
       "      <td>-11</td>\n",
       "      <td>0.0</td>\n",
       "      <td>0</td>\n",
       "      <td>0</td>\n",
       "      <td>I</td>\n",
       "      <td>PERIODIC</td>\n",
       "      <td>15mn</td>\n",
       "    </tr>\n",
       "    <tr>\n",
       "      <th>...</th>\n",
       "      <td>...</td>\n",
       "      <td>...</td>\n",
       "      <td>...</td>\n",
       "      <td>...</td>\n",
       "      <td>...</td>\n",
       "      <td>...</td>\n",
       "      <td>...</td>\n",
       "      <td>...</td>\n",
       "      <td>...</td>\n",
       "      <td>...</td>\n",
       "      <td>...</td>\n",
       "    </tr>\n",
       "    <tr>\n",
       "      <th>6231</th>\n",
       "      <td>2024.02.29_17.08.31</td>\n",
       "      <td>5G</td>\n",
       "      <td>5G SA</td>\n",
       "      <td>-74</td>\n",
       "      <td>-12</td>\n",
       "      <td>5.0</td>\n",
       "      <td>9</td>\n",
       "      <td>48</td>\n",
       "      <td>D</td>\n",
       "      <td>PERIODIC</td>\n",
       "      <td>29mt</td>\n",
       "    </tr>\n",
       "    <tr>\n",
       "      <th>6232</th>\n",
       "      <td>2024.02.29_17.08.32</td>\n",
       "      <td>5G</td>\n",
       "      <td>5G SA</td>\n",
       "      <td>-80</td>\n",
       "      <td>-12</td>\n",
       "      <td>7.0</td>\n",
       "      <td>0</td>\n",
       "      <td>0</td>\n",
       "      <td>D</td>\n",
       "      <td>PERIODIC</td>\n",
       "      <td>29mt</td>\n",
       "    </tr>\n",
       "    <tr>\n",
       "      <th>6233</th>\n",
       "      <td>2024.02.29_17.08.33</td>\n",
       "      <td>5G</td>\n",
       "      <td>5G SA</td>\n",
       "      <td>-80</td>\n",
       "      <td>-12</td>\n",
       "      <td>7.0</td>\n",
       "      <td>0</td>\n",
       "      <td>0</td>\n",
       "      <td>D</td>\n",
       "      <td>PERIODIC</td>\n",
       "      <td>29mt</td>\n",
       "    </tr>\n",
       "    <tr>\n",
       "      <th>6234</th>\n",
       "      <td>2024.02.29_17.08.34</td>\n",
       "      <td>5G</td>\n",
       "      <td>5G SA</td>\n",
       "      <td>-78</td>\n",
       "      <td>-12</td>\n",
       "      <td>6.0</td>\n",
       "      <td>137</td>\n",
       "      <td>21</td>\n",
       "      <td>D</td>\n",
       "      <td>PERIODIC</td>\n",
       "      <td>29mt</td>\n",
       "    </tr>\n",
       "    <tr>\n",
       "      <th>6235</th>\n",
       "      <td>2024.02.29_17.08.34</td>\n",
       "      <td>5G</td>\n",
       "      <td>5G SA</td>\n",
       "      <td>-78</td>\n",
       "      <td>-12</td>\n",
       "      <td>6.0</td>\n",
       "      <td>137</td>\n",
       "      <td>21</td>\n",
       "      <td>D</td>\n",
       "      <td>LOG_END</td>\n",
       "      <td>29mt</td>\n",
       "    </tr>\n",
       "  </tbody>\n",
       "</table>\n",
       "<p>6236 rows × 11 columns</p>\n",
       "</div>"
      ],
      "text/plain": [
       "                Timestamp NetworkTech NetworkMode  Level Qual  SNR  \\\n",
       "0     2024.03.15_14.23.35          4G         LTE   -108  -11  0.0   \n",
       "1     2024.03.15_14.23.35          4G         LTE   -108  -11  0.0   \n",
       "2     2024.03.15_14.23.35          4G         LTE   -108  -11  0.0   \n",
       "3     2024.03.15_14.23.35          4G         LTE   -108  -11  0.0   \n",
       "4     2024.03.15_14.23.36          4G         LTE   -110  -11  0.0   \n",
       "...                   ...         ...         ...    ...  ...  ...   \n",
       "6231  2024.02.29_17.08.31          5G       5G SA    -74  -12  5.0   \n",
       "6232  2024.02.29_17.08.32          5G       5G SA    -80  -12  7.0   \n",
       "6233  2024.02.29_17.08.33          5G       5G SA    -80  -12  7.0   \n",
       "6234  2024.02.29_17.08.34          5G       5G SA    -78  -12  6.0   \n",
       "6235  2024.02.29_17.08.34          5G       5G SA    -78  -12  6.0   \n",
       "\n",
       "      DL_bitrate  UL_bitrate State      EVENT source_file  \n",
       "0              0           0     I  LOG START        15mn  \n",
       "1              0           0     I        NaN        15mn  \n",
       "2              0           0     I   PERIODIC        15mn  \n",
       "3              0           0     I        NaN        15mn  \n",
       "4              0           0     I   PERIODIC        15mn  \n",
       "...          ...         ...   ...        ...         ...  \n",
       "6231           9          48     D   PERIODIC        29mt  \n",
       "6232           0           0     D   PERIODIC        29mt  \n",
       "6233           0           0     D   PERIODIC        29mt  \n",
       "6234         137          21     D   PERIODIC        29mt  \n",
       "6235         137          21     D    LOG_END        29mt  \n",
       "\n",
       "[6236 rows x 11 columns]"
      ]
     },
     "execution_count": 186,
     "metadata": {},
     "output_type": "execute_result"
    }
   ],
   "source": [
    "columns"
   ]
  },
  {
   "cell_type": "code",
   "execution_count": 187,
   "id": "f93d94f6-c804-4701-8ca7-4f9a83508617",
   "metadata": {},
   "outputs": [],
   "source": [
    "columns.to_csv(\"cross-check-logs/mobility/sa/all.csv\",index=False)"
   ]
  },
  {
   "cell_type": "code",
   "execution_count": null,
   "id": "b341c4da-cbf2-4571-8f32-f4f1ba75eaf0",
   "metadata": {},
   "outputs": [],
   "source": []
  },
  {
   "cell_type": "code",
   "execution_count": 188,
   "id": "1dfa5a76-ca4a-4577-87b7-ee35d079231f",
   "metadata": {},
   "outputs": [],
   "source": [
    "#Get Events and QoE"
   ]
  },
  {
   "cell_type": "code",
   "execution_count": 189,
   "id": "1db2e599-4e43-46a4-969a-b677a63425e8",
   "metadata": {},
   "outputs": [],
   "source": [
    "import pandas as pd\n",
    "events = pd.read_csv(\"5G-paper-noms - events.csv\")"
   ]
  },
  {
   "cell_type": "code",
   "execution_count": 190,
   "id": "1ffe5b8b-e794-46ac-8491-b4d0d8a0bec1",
   "metadata": {},
   "outputs": [
    {
     "data": {
      "text/plain": [
       "(554, 8)"
      ]
     },
     "execution_count": 190,
     "metadata": {},
     "output_type": "execute_result"
    }
   ],
   "source": [
    "events.shape"
   ]
  },
  {
   "cell_type": "code",
   "execution_count": 191,
   "id": "6deabe02-3930-4969-a644-38e46ef7c3b1",
   "metadata": {},
   "outputs": [],
   "source": [
    "filtered_events = events[events['Eid'].isin(csv_files)]"
   ]
  },
  {
   "cell_type": "code",
   "execution_count": 192,
   "id": "1601351c-68de-424a-8dfc-fa59a722da13",
   "metadata": {},
   "outputs": [
    {
     "data": {
      "text/plain": [
       "(47, 8)"
      ]
     },
     "execution_count": 192,
     "metadata": {},
     "output_type": "execute_result"
    }
   ],
   "source": [
    "filtered_events.shape"
   ]
  },
  {
   "cell_type": "code",
   "execution_count": 193,
   "id": "26297d77-63a2-491c-a2a6-f58bdefcc81b",
   "metadata": {},
   "outputs": [],
   "source": [
    "filtered_events.to_csv(\"cross-check-logs/mobility/sa/events.csv\",index=False)"
   ]
  },
  {
   "cell_type": "code",
   "execution_count": null,
   "id": "d72e0ef4-76e9-4710-ac46-4c31f1f381b3",
   "metadata": {},
   "outputs": [],
   "source": []
  },
  {
   "cell_type": "code",
   "execution_count": 194,
   "id": "86e95c6f-af07-45ae-a3bd-dddf861688f6",
   "metadata": {},
   "outputs": [],
   "source": [
    "# QoE"
   ]
  },
  {
   "cell_type": "code",
   "execution_count": 195,
   "id": "d8f30999-6f52-4503-aa55-5a280f141a8c",
   "metadata": {},
   "outputs": [],
   "source": [
    "qoe = pd.read_csv(\"5G-paper-noms - qoe.csv\")"
   ]
  },
  {
   "cell_type": "code",
   "execution_count": 196,
   "id": "85a0da95-f014-405b-b4b4-00846a723ce3",
   "metadata": {},
   "outputs": [
    {
     "data": {
      "text/plain": [
       "(27882, 7)"
      ]
     },
     "execution_count": 196,
     "metadata": {},
     "output_type": "execute_result"
    }
   ],
   "source": [
    "qoe.shape"
   ]
  },
  {
   "cell_type": "code",
   "execution_count": 197,
   "id": "10c02141-56f0-444b-938f-5e75d3e59839",
   "metadata": {},
   "outputs": [],
   "source": [
    "filtered_qoe = qoe[qoe['Eid'].isin(csv_files)]"
   ]
  },
  {
   "cell_type": "code",
   "execution_count": 198,
   "id": "ff4738bc-4ced-4e30-992c-567a6977a61b",
   "metadata": {},
   "outputs": [
    {
     "data": {
      "text/plain": [
       "(3671, 7)"
      ]
     },
     "execution_count": 198,
     "metadata": {},
     "output_type": "execute_result"
    }
   ],
   "source": [
    "filtered_qoe.shape"
   ]
  },
  {
   "cell_type": "code",
   "execution_count": 199,
   "id": "4ae0a722-d780-4d83-82d0-cdacf5cc1833",
   "metadata": {},
   "outputs": [],
   "source": [
    "filtered_qoe.to_csv(\"cross-check-logs/mobility/sa/qoe.csv\",index=False)"
   ]
  },
  {
   "cell_type": "code",
   "execution_count": null,
   "id": "b2ab0bc1-4879-4ae5-9b7b-02f4e7463449",
   "metadata": {},
   "outputs": [],
   "source": []
  }
 ],
 "metadata": {
  "kernelspec": {
   "display_name": "Python 3 (ipykernel)",
   "language": "python",
   "name": "python3"
  },
  "language_info": {
   "codemirror_mode": {
    "name": "ipython",
    "version": 3
   },
   "file_extension": ".py",
   "mimetype": "text/x-python",
   "name": "python",
   "nbconvert_exporter": "python",
   "pygments_lexer": "ipython3",
   "version": "3.12.7"
  }
 },
 "nbformat": 4,
 "nbformat_minor": 5
}
