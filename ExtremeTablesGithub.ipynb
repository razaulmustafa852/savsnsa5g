{
 "cells": [
  {
   "cell_type": "code",
   "execution_count": 6,
   "id": "723c99c6-c5d3-451a-91c2-788530d2e33d",
   "metadata": {},
   "outputs": [],
   "source": [
    "import pandas as pd\n",
    "extreme_NSA_logs = pd.read_csv(\"cross-check-logs/extreme/nsa/all.csv\")\n",
    "extreme_NSA_qoe = pd.read_csv(\"cross-check-logs/extreme/nsa/qoe.csv\")\n",
    "extreme_NSA_events = pd.read_csv(\"cross-check-logs/extreme/nsa/events.csv\")"
   ]
  },
  {
   "cell_type": "code",
   "execution_count": 7,
   "id": "ed87ed3f-07ae-4cba-a5f8-ad2840c89f91",
   "metadata": {},
   "outputs": [
    {
     "data": {
      "text/plain": [
       "(3976, 7)"
      ]
     },
     "execution_count": 7,
     "metadata": {},
     "output_type": "execute_result"
    }
   ],
   "source": [
    "extreme_NSA_qoe.shape"
   ]
  },
  {
   "cell_type": "code",
   "execution_count": 8,
   "id": "d057ba6e-f328-45a1-9f27-505ed2c3e92e",
   "metadata": {},
   "outputs": [
    {
     "data": {
      "text/html": [
       "<div>\n",
       "<style scoped>\n",
       "    .dataframe tbody tr th:only-of-type {\n",
       "        vertical-align: middle;\n",
       "    }\n",
       "\n",
       "    .dataframe tbody tr th {\n",
       "        vertical-align: top;\n",
       "    }\n",
       "\n",
       "    .dataframe thead th {\n",
       "        text-align: right;\n",
       "    }\n",
       "</style>\n",
       "<table border=\"1\" class=\"dataframe\">\n",
       "  <thead>\n",
       "    <tr style=\"text-align: right;\">\n",
       "      <th></th>\n",
       "      <th>Video</th>\n",
       "      <th>Quality</th>\n",
       "      <th>Video Bytes Downloaded</th>\n",
       "      <th>Loaded Percentage</th>\n",
       "      <th>Eid</th>\n",
       "      <th>Date</th>\n",
       "      <th>Time</th>\n",
       "    </tr>\n",
       "  </thead>\n",
       "  <tbody>\n",
       "    <tr>\n",
       "      <th>0</th>\n",
       "      <td>9jrP7460a4o</td>\n",
       "      <td>large</td>\n",
       "      <td>0.000000</td>\n",
       "      <td>0.0</td>\n",
       "      <td>mcar</td>\n",
       "      <td>2024-06-14</td>\n",
       "      <td>18:45:30</td>\n",
       "    </tr>\n",
       "    <tr>\n",
       "      <th>1</th>\n",
       "      <td>9jrP7460a4o</td>\n",
       "      <td>large</td>\n",
       "      <td>0.020915</td>\n",
       "      <td>2.1</td>\n",
       "      <td>mcar</td>\n",
       "      <td>2024-06-14</td>\n",
       "      <td>18:45:31</td>\n",
       "    </tr>\n",
       "  </tbody>\n",
       "</table>\n",
       "</div>"
      ],
      "text/plain": [
       "         Video Quality  Video Bytes Downloaded  Loaded Percentage   Eid  \\\n",
       "0  9jrP7460a4o   large                0.000000                0.0  mcar   \n",
       "1  9jrP7460a4o   large                0.020915                2.1  mcar   \n",
       "\n",
       "         Date      Time  \n",
       "0  2024-06-14  18:45:30  \n",
       "1  2024-06-14  18:45:31  "
      ]
     },
     "execution_count": 8,
     "metadata": {},
     "output_type": "execute_result"
    }
   ],
   "source": [
    "extreme_NSA_qoe.head(2)"
   ]
  },
  {
   "cell_type": "code",
   "execution_count": 9,
   "id": "c2a86748-ec30-48d4-885f-b24e4dc870c4",
   "metadata": {},
   "outputs": [
    {
     "name": "stdout",
     "output_type": "stream",
     "text": [
      "        Quality  Percentage\n",
      "Quality                    \n",
      "large     large   67.731388\n",
      "hd720     hd720   16.926559\n",
      "hd1080   hd1080    7.218310\n",
      "medium   medium    6.841046\n",
      "hd2160   hd2160    1.056338\n",
      "small     small    0.150905\n",
      "tiny       tiny    0.075453\n"
     ]
    }
   ],
   "source": [
    "grouped = extreme_NSA_qoe['Quality'].value_counts()\n",
    "\n",
    "# Step 2: Calculate the total percentage of each quality level\n",
    "total_count = len(extreme_NSA_qoe)\n",
    "percentage = (grouped / total_count) * 100\n",
    "\n",
    "# Step 3: Display the percentage for each quality level\n",
    "percentage_df = pd.DataFrame({'Quality': grouped.index, 'Percentage': percentage})\n",
    "\n",
    "# Sort the percentages in descending order\n",
    "percentage_df = percentage_df.sort_values(by='Percentage', ascending=False)\n",
    "\n",
    "# Display the results\n",
    "print(percentage_df)"
   ]
  },
  {
   "cell_type": "code",
   "execution_count": null,
   "id": "c54b5343-4165-4a35-ab57-460da04d1c2c",
   "metadata": {},
   "outputs": [],
   "source": []
  },
  {
   "cell_type": "code",
   "execution_count": 11,
   "id": "fc4fb876-90b3-475e-99d7-8e35ea2ebb96",
   "metadata": {},
   "outputs": [],
   "source": [
    "events = extreme_NSA_events[(extreme_NSA_events['Category']!='unstarted') & \n",
    "                                        (extreme_NSA_events['Category']!='ended') &(extreme_NSA_events['Category']!='paused')\n",
    "                                       ]"
   ]
  },
  {
   "cell_type": "code",
   "execution_count": 26,
   "id": "dc576361-ba5f-4842-86f4-a97188acb502",
   "metadata": {},
   "outputs": [],
   "source": [
    "buf = events[events['Category']=='buffering']\n",
    "# buf"
   ]
  },
  {
   "cell_type": "code",
   "execution_count": 27,
   "id": "4f9595cd-1fc1-4e92-8a89-bf61ab530ac6",
   "metadata": {},
   "outputs": [
    {
     "data": {
      "text/plain": [
       "(17, 8)"
      ]
     },
     "execution_count": 27,
     "metadata": {},
     "output_type": "execute_result"
    }
   ],
   "source": [
    "buf.shape"
   ]
  },
  {
   "cell_type": "code",
   "execution_count": 23,
   "id": "e41c5a21-8332-4a2e-aef4-5ec38f1b154a",
   "metadata": {},
   "outputs": [],
   "source": [
    "# List of columns to convert\n",
    "columns_to_convert = ['Level', 'Qual','SNR','DL_bitrate']\n",
    "\n",
    "# Convert specified columns to numeric\n",
    "for col in columns_to_convert:\n",
    "    extreme_NSA_logs[col] = pd.to_numeric(extreme_NSA_logs[col], errors='coerce')  # Non-convertible values become NaN\n"
   ]
  },
  {
   "cell_type": "code",
   "execution_count": 25,
   "id": "ff8e6dd2-90df-4589-b641-cdebf8a8f6b1",
   "metadata": {},
   "outputs": [
    {
     "data": {
      "text/html": [
       "<div>\n",
       "<style scoped>\n",
       "    .dataframe tbody tr th:only-of-type {\n",
       "        vertical-align: middle;\n",
       "    }\n",
       "\n",
       "    .dataframe tbody tr th {\n",
       "        vertical-align: top;\n",
       "    }\n",
       "\n",
       "    .dataframe thead th {\n",
       "        text-align: right;\n",
       "    }\n",
       "</style>\n",
       "<table border=\"1\" class=\"dataframe\">\n",
       "  <thead>\n",
       "    <tr style=\"text-align: right;\">\n",
       "      <th></th>\n",
       "      <th>Level</th>\n",
       "      <th>Qual</th>\n",
       "      <th>SNR</th>\n",
       "      <th>DL_bitrate</th>\n",
       "    </tr>\n",
       "  </thead>\n",
       "  <tbody>\n",
       "    <tr>\n",
       "      <th>count</th>\n",
       "      <td>4292.000000</td>\n",
       "      <td>4292.000000</td>\n",
       "      <td>4283.000000</td>\n",
       "      <td>4292.000000</td>\n",
       "    </tr>\n",
       "    <tr>\n",
       "      <th>mean</th>\n",
       "      <td>-157.948509</td>\n",
       "      <td>-11.699674</td>\n",
       "      <td>9.467896</td>\n",
       "      <td>743.762582</td>\n",
       "    </tr>\n",
       "    <tr>\n",
       "      <th>std</th>\n",
       "      <td>118.178621</td>\n",
       "      <td>51.601727</td>\n",
       "      <td>8.254962</td>\n",
       "      <td>1424.972517</td>\n",
       "    </tr>\n",
       "    <tr>\n",
       "      <th>min</th>\n",
       "      <td>-340.000000</td>\n",
       "      <td>-23.000000</td>\n",
       "      <td>-17.000000</td>\n",
       "      <td>0.000000</td>\n",
       "    </tr>\n",
       "    <tr>\n",
       "      <th>25%</th>\n",
       "      <td>-121.000000</td>\n",
       "      <td>-18.000000</td>\n",
       "      <td>3.000000</td>\n",
       "      <td>4.000000</td>\n",
       "    </tr>\n",
       "    <tr>\n",
       "      <th>50%</th>\n",
       "      <td>-108.000000</td>\n",
       "      <td>-12.000000</td>\n",
       "      <td>9.000000</td>\n",
       "      <td>4.000000</td>\n",
       "    </tr>\n",
       "    <tr>\n",
       "      <th>75%</th>\n",
       "      <td>-100.000000</td>\n",
       "      <td>-11.000000</td>\n",
       "      <td>16.000000</td>\n",
       "      <td>1187.750000</td>\n",
       "    </tr>\n",
       "    <tr>\n",
       "      <th>max</th>\n",
       "      <td>1111.000000</td>\n",
       "      <td>1111.000000</td>\n",
       "      <td>30.000000</td>\n",
       "      <td>17441.000000</td>\n",
       "    </tr>\n",
       "  </tbody>\n",
       "</table>\n",
       "</div>"
      ],
      "text/plain": [
       "             Level         Qual          SNR    DL_bitrate\n",
       "count  4292.000000  4292.000000  4283.000000   4292.000000\n",
       "mean   -157.948509   -11.699674     9.467896    743.762582\n",
       "std     118.178621    51.601727     8.254962   1424.972517\n",
       "min    -340.000000   -23.000000   -17.000000      0.000000\n",
       "25%    -121.000000   -18.000000     3.000000      4.000000\n",
       "50%    -108.000000   -12.000000     9.000000      4.000000\n",
       "75%    -100.000000   -11.000000    16.000000   1187.750000\n",
       "max    1111.000000  1111.000000    30.000000  17441.000000"
      ]
     },
     "execution_count": 25,
     "metadata": {},
     "output_type": "execute_result"
    }
   ],
   "source": [
    "extreme_NSA_logs.describe()"
   ]
  },
  {
   "cell_type": "code",
   "execution_count": null,
   "id": "975bafe9-d3ba-465b-876f-07bd36716c5f",
   "metadata": {},
   "outputs": [],
   "source": []
  }
 ],
 "metadata": {
  "kernelspec": {
   "display_name": "Python 3 (ipykernel)",
   "language": "python",
   "name": "python3"
  },
  "language_info": {
   "codemirror_mode": {
    "name": "ipython",
    "version": 3
   },
   "file_extension": ".py",
   "mimetype": "text/x-python",
   "name": "python",
   "nbconvert_exporter": "python",
   "pygments_lexer": "ipython3",
   "version": "3.12.7"
  }
 },
 "nbformat": 4,
 "nbformat_minor": 5
}
