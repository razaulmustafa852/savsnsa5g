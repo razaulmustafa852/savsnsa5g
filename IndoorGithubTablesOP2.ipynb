{
 "cells": [
  {
   "cell_type": "code",
   "execution_count": 3,
   "id": "1722134c-291a-4f2a-9579-a3048b1de941",
   "metadata": {},
   "outputs": [],
   "source": [
    "import pandas as pd\n",
    "extreme_NSA_logs = pd.read_csv(\"cross-check-logs/indoor/op2/nsa/all.csv\")\n",
    "extreme_NSA_qoe = pd.read_csv(\"cross-check-logs/indoor/op2/nsa/qoe.csv\")\n",
    "extreme_NSA_events = pd.read_csv(\"cross-check-logs/indoor/op2/nsa/events.csv\")"
   ]
  },
  {
   "cell_type": "code",
   "execution_count": 4,
   "id": "ac221db4-dce5-47f3-a4c5-97d6cfe22598",
   "metadata": {},
   "outputs": [],
   "source": [
    "#NSA"
   ]
  },
  {
   "cell_type": "code",
   "execution_count": 5,
   "id": "50579486-719f-40c0-9779-70f5cf49d9a0",
   "metadata": {},
   "outputs": [
    {
     "name": "stdout",
     "output_type": "stream",
     "text": [
      "        Quality  Percentage\n",
      "Quality                    \n",
      "large     large   50.227894\n",
      "hd1440   hd1440   36.554239\n",
      "hd1080   hd1080   12.670921\n",
      "hd720     hd720    0.546946\n"
     ]
    }
   ],
   "source": [
    "grouped = extreme_NSA_qoe['Quality'].value_counts()\n",
    "\n",
    "# Step 2: Calculate the total percentage of each quality level\n",
    "total_count = len(extreme_NSA_qoe)\n",
    "percentage = (grouped / total_count) * 100\n",
    "\n",
    "# Step 3: Display the percentage for each quality level\n",
    "percentage_df = pd.DataFrame({'Quality': grouped.index, 'Percentage': percentage})\n",
    "\n",
    "# Sort the percentages in descending order\n",
    "percentage_df = percentage_df.sort_values(by='Percentage', ascending=False)\n",
    "\n",
    "# Display the results\n",
    "print(percentage_df)"
   ]
  },
  {
   "cell_type": "code",
   "execution_count": 6,
   "id": "6f0c5770-ea0e-4b89-b7d4-0b63dd43d1ce",
   "metadata": {},
   "outputs": [],
   "source": [
    "#Events"
   ]
  },
  {
   "cell_type": "code",
   "execution_count": 7,
   "id": "0d09016a-3f6d-4664-9b5b-3386bf23c93f",
   "metadata": {},
   "outputs": [],
   "source": [
    "events = extreme_NSA_events[(extreme_NSA_events['Category']!='unstarted') & \n",
    "                                        (extreme_NSA_events['Category']!='ended') &(extreme_NSA_events['Category']!='paused')\n",
    "                                       ]\n",
    "buf = events[events['Category']=='buffering']\n",
    "# buf"
   ]
  },
  {
   "cell_type": "code",
   "execution_count": 9,
   "id": "4bfd5215-aa4e-4747-94d9-73dd0b60c869",
   "metadata": {},
   "outputs": [
    {
     "data": {
      "text/plain": [
       "(5, 8)"
      ]
     },
     "execution_count": 9,
     "metadata": {},
     "output_type": "execute_result"
    }
   ],
   "source": [
    "buf.shape"
   ]
  },
  {
   "cell_type": "code",
   "execution_count": null,
   "id": "309d4f93-7c87-4818-971d-2c0701b9fc26",
   "metadata": {},
   "outputs": [],
   "source": []
  }
 ],
 "metadata": {
  "kernelspec": {
   "display_name": "Python 3 (ipykernel)",
   "language": "python",
   "name": "python3"
  },
  "language_info": {
   "codemirror_mode": {
    "name": "ipython",
    "version": 3
   },
   "file_extension": ".py",
   "mimetype": "text/x-python",
   "name": "python",
   "nbconvert_exporter": "python",
   "pygments_lexer": "ipython3",
   "version": "3.12.7"
  }
 },
 "nbformat": 4,
 "nbformat_minor": 5
}
