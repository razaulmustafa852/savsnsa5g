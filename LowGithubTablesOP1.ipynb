{
 "cells": [
  {
   "cell_type": "code",
   "execution_count": 2,
   "id": "1722134c-291a-4f2a-9579-a3048b1de941",
   "metadata": {},
   "outputs": [],
   "source": [
    "import pandas as pd\n",
    "extreme_NSA_logs = pd.read_csv(\"cross-check-logs/low-mobility/nsa/all.csv\")\n",
    "extreme_NSA_qoe = pd.read_csv(\"cross-check-logs/low-mobility/nsa/qoe.csv\")\n",
    "extreme_NSA_events = pd.read_csv(\"cross-check-logs/low-mobility/nsa/events.csv\")"
   ]
  },
  {
   "cell_type": "code",
   "execution_count": 3,
   "id": "cb41fa7a-b9a5-4c57-af2b-e5780678cd20",
   "metadata": {},
   "outputs": [],
   "source": [
    "extreme_SA_logs = pd.read_csv(\"cross-check-logs/low-mobility/sa/all.csv\")\n",
    "extreme_SA_qoe = pd.read_csv(\"cross-check-logs/low-mobility/sa/qoe.csv\")\n",
    "extreme_SA_events = pd.read_csv(\"cross-check-logs/low-mobility/sa/events.csv\")"
   ]
  },
  {
   "cell_type": "code",
   "execution_count": 4,
   "id": "ac221db4-dce5-47f3-a4c5-97d6cfe22598",
   "metadata": {},
   "outputs": [],
   "source": [
    "#NSA"
   ]
  },
  {
   "cell_type": "code",
   "execution_count": 5,
   "id": "50579486-719f-40c0-9779-70f5cf49d9a0",
   "metadata": {},
   "outputs": [
    {
     "name": "stdout",
     "output_type": "stream",
     "text": [
      "        Quality  Percentage\n",
      "Quality                    \n",
      "hd2160   hd2160       100.0\n"
     ]
    }
   ],
   "source": [
    "grouped = extreme_NSA_qoe['Quality'].value_counts()\n",
    "\n",
    "# Step 2: Calculate the total percentage of each quality level\n",
    "total_count = len(extreme_NSA_qoe)\n",
    "percentage = (grouped / total_count) * 100\n",
    "\n",
    "# Step 3: Display the percentage for each quality level\n",
    "percentage_df = pd.DataFrame({'Quality': grouped.index, 'Percentage': percentage})\n",
    "\n",
    "# Sort the percentages in descending order\n",
    "percentage_df = percentage_df.sort_values(by='Percentage', ascending=False)\n",
    "\n",
    "# Display the results\n",
    "print(percentage_df)"
   ]
  },
  {
   "cell_type": "code",
   "execution_count": 6,
   "id": "70dc5452-6dc3-4097-a30a-fe3c6ea6665b",
   "metadata": {},
   "outputs": [],
   "source": [
    "#SA"
   ]
  },
  {
   "cell_type": "code",
   "execution_count": 7,
   "id": "93dc36ae-dd80-4b9e-9a73-648e826b7efa",
   "metadata": {},
   "outputs": [
    {
     "name": "stdout",
     "output_type": "stream",
     "text": [
      "        Quality  Percentage\n",
      "Quality                    \n",
      "hd2160   hd2160   54.700855\n",
      "large     large   31.452991\n",
      "small     small   10.769231\n",
      "hd1080   hd1080    1.709402\n",
      "medium   medium    1.367521\n"
     ]
    }
   ],
   "source": [
    "grouped = extreme_SA_qoe['Quality'].value_counts()\n",
    "\n",
    "# Step 2: Calculate the total percentage of each quality level\n",
    "total_count = len(extreme_SA_qoe)\n",
    "percentage = (grouped / total_count) * 100\n",
    "\n",
    "# Step 3: Display the percentage for each quality level\n",
    "percentage_df = pd.DataFrame({'Quality': grouped.index, 'Percentage': percentage})\n",
    "\n",
    "# Sort the percentages in descending order\n",
    "percentage_df = percentage_df.sort_values(by='Percentage', ascending=False)\n",
    "\n",
    "# Display the results\n",
    "print(percentage_df)"
   ]
  },
  {
   "cell_type": "code",
   "execution_count": 8,
   "id": "6f0c5770-ea0e-4b89-b7d4-0b63dd43d1ce",
   "metadata": {},
   "outputs": [],
   "source": [
    "#Events"
   ]
  },
  {
   "cell_type": "code",
   "execution_count": 9,
   "id": "0d09016a-3f6d-4664-9b5b-3386bf23c93f",
   "metadata": {},
   "outputs": [],
   "source": [
    "events = extreme_NSA_events[(extreme_NSA_events['Category']!='unstarted') & \n",
    "                                        (extreme_NSA_events['Category']!='ended') &(extreme_NSA_events['Category']!='paused')\n",
    "                                       ]\n",
    "buf = events[events['Category']=='buffering']\n",
    "# buf"
   ]
  },
  {
   "cell_type": "code",
   "execution_count": 10,
   "id": "4bfd5215-aa4e-4747-94d9-73dd0b60c869",
   "metadata": {},
   "outputs": [
    {
     "data": {
      "text/plain": [
       "(3, 8)"
      ]
     },
     "execution_count": 10,
     "metadata": {},
     "output_type": "execute_result"
    }
   ],
   "source": [
    "buf.shape"
   ]
  },
  {
   "cell_type": "code",
   "execution_count": 11,
   "id": "fd6137ac-a663-435d-a9fd-c95ec7ef4f70",
   "metadata": {},
   "outputs": [
    {
     "data": {
      "text/plain": [
       "(15, 8)"
      ]
     },
     "execution_count": 11,
     "metadata": {},
     "output_type": "execute_result"
    }
   ],
   "source": [
    "events_SA = extreme_SA_events[(extreme_SA_events['Category']!='unstarted') & \n",
    "                                        (extreme_SA_events['Category']!='ended') &(extreme_SA_events['Category']!='paused')\n",
    "                                       ]\n",
    "buf_SA = events_SA[events_SA['Category']=='buffering']\n",
    "# buf\n",
    "buf_SA.shape"
   ]
  },
  {
   "cell_type": "code",
   "execution_count": 12,
   "id": "ea439ede-09f5-497c-a285-34bd871c2d20",
   "metadata": {},
   "outputs": [],
   "source": [
    "def count_category_values(df, column_name):\n",
    "    # Get the counts of each category\n",
    "    category_counts = df[column_name].value_counts()\n",
    "    \n",
    "    # Calculate the percentages\n",
    "    category_percentages = (category_counts / len(df)) * 100\n",
    "    \n",
    "    # Combine counts and percentages into a new DataFrame\n",
    "    result = pd.DataFrame({\n",
    "        'Count': category_counts,\n",
    "        'Percentage': category_percentages\n",
    "    })\n",
    "    \n",
    "    return result"
   ]
  },
  {
   "cell_type": "code",
   "execution_count": 14,
   "id": "b1382f6a-77da-40a5-ab1b-f6a5ef151563",
   "metadata": {},
   "outputs": [
    {
     "name": "stdout",
     "output_type": "stream",
     "text": [
      "                         Count  Percentage\n",
      "EVENT                                     \n",
      "PERIODIC                   998   85.445205\n",
      "HANDOVER_DATA_5G5G          16    1.369863\n",
      "LOG START                    4    0.342466\n",
      "LOG_END                      4    0.342466\n",
      "HANDOVER_DATA_4G4G           3    0.256849\n",
      "CELL_RESELECTION_5G5G        1    0.085616\n",
      "IRAT_HANDOVER_DATA_5G4G      1    0.085616\n"
     ]
    }
   ],
   "source": [
    "category_stats = count_category_values(extreme_NSA_logs, 'EVENT')\n",
    "print(category_stats)"
   ]
  },
  {
   "cell_type": "code",
   "execution_count": null,
   "id": "2d95252b-1068-47f8-bcc7-cb1255da0b1a",
   "metadata": {},
   "outputs": [],
   "source": []
  }
 ],
 "metadata": {
  "kernelspec": {
   "display_name": "Python 3 (ipykernel)",
   "language": "python",
   "name": "python3"
  },
  "language_info": {
   "codemirror_mode": {
    "name": "ipython",
    "version": 3
   },
   "file_extension": ".py",
   "mimetype": "text/x-python",
   "name": "python",
   "nbconvert_exporter": "python",
   "pygments_lexer": "ipython3",
   "version": "3.12.7"
  }
 },
 "nbformat": 4,
 "nbformat_minor": 5
}
